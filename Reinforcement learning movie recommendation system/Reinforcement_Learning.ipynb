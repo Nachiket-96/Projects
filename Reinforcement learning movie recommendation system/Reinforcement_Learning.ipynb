{
  "nbformat": 4,
  "nbformat_minor": 0,
  "metadata": {
    "colab": {
      "provenance": []
    },
    "kernelspec": {
      "name": "python3",
      "display_name": "Python 3"
    },
    "language_info": {
      "name": "python"
    }
  },
  "cells": [
    {
      "cell_type": "markdown",
      "source": [
        "## **Neel Patel-Data Preprocessing & Cleaning**\n",
        "\n",
        "\n",
        "Tasks:\n",
        "* Load the dataset (movies.csv).\n",
        "* Remove duplicate entries.\n",
        "* Handle missing values, convert necessary fields to numeric types, and re-check for NaNs.\n",
        "* Standardize text fields, such as movie titles and genres, to ensure uniform formatting.\n",
        "* Filter scores to ensure all ratings are within a valid range (0 to 10).\n",
        "* Print out the number of missing values before and after cleaning.\n",
        "\n",
        "Deliverables:\n",
        "* Cleaned movies_df DataFrame, ready for Q-learning.\n",
        "Output with missing values before and after cleaning."
      ],
      "metadata": {
        "id": "jfBMXNwUJgUJ"
      }
    },
    {
      "cell_type": "code",
      "execution_count": 1,
      "metadata": {
        "colab": {
          "base_uri": "https://localhost:8080/"
        },
        "id": "sb5bNa2EJJSO",
        "outputId": "7951afc5-0173-47c6-83c9-6007ae9f3e60"
      },
      "outputs": [
        {
          "output_type": "stream",
          "name": "stdout",
          "text": [
            "Missing values before cleaning:\n",
            "name           0\n",
            "rating        77\n",
            "genre          0\n",
            "year           0\n",
            "released       2\n",
            "score          3\n",
            "votes          3\n",
            "director       0\n",
            "writer         3\n",
            "star           1\n",
            "country        3\n",
            "budget      2171\n",
            "gross        189\n",
            "company       17\n",
            "runtime        4\n",
            "dtype: int64\n",
            "\n",
            "Missing values after cleaning:\n",
            "name        0\n",
            "rating      0\n",
            "genre       0\n",
            "year        0\n",
            "released    0\n",
            "score       0\n",
            "votes       0\n",
            "director    0\n",
            "writer      0\n",
            "star        0\n",
            "country     0\n",
            "budget      0\n",
            "gross       0\n",
            "company     0\n",
            "runtime     0\n",
            "dtype: int64\n"
          ]
        }
      ],
      "source": [
        "import pandas as pd\n",
        "\n",
        "# Load the dataset\n",
        "movies_df = pd.read_csv('movies.csv')\n",
        "\n",
        "# Step 1: Remove duplicates\n",
        "movies_df.drop_duplicates(inplace=True)\n",
        "\n",
        "# Step 2: Handle missing values\n",
        "print(\"Missing values before cleaning:\")\n",
        "print(movies_df.isnull().sum())\n",
        "\n",
        "# Drop rows with nulls in essential columns and convert 'score' to numeric\n",
        "movies_df.dropna(subset=['name', 'genre', 'score'], inplace=True)\n",
        "movies_df['score'] = pd.to_numeric(movies_df['score'], errors='coerce')\n",
        "movies_df.dropna(inplace=True)\n",
        "\n",
        "# Show the number of missing values after cleaning\n",
        "print(\"\\nMissing values after cleaning:\")\n",
        "print(movies_df.isnull().sum())\n",
        "\n",
        "# Step 3: Standardize text fields and filter score range\n",
        "movies_df['name'] = movies_df['name'].str.title()\n",
        "movies_df['genre'] = movies_df['genre'].str.strip().str.capitalize()\n",
        "movies_df = movies_df[(movies_df['score'] >= 0) & (movies_df['score'] <= 10)]\n",
        "\n",
        "# Deliverable: Cleaned 'movies_df' DataFrame ready for Q-learning setup"
      ]
    },
    {
      "cell_type": "markdown",
      "source": [
        "## **Nachiket Prajapati: Q-learning Setup & Training**\n",
        "\n",
        "Tasks:\n",
        "* Define states (genres) and actions (movie names) from the movies_df.\n",
        "* Initialize the Q-table with zero values.\n",
        "* Create a reward function based on movie ratings (e.g., positive reward for scores 7 and above, neutral for 4-6.9, negative for below 4).\n",
        "* Implement the Q-learning training loop:\n",
        "* Randomly select a genre (state) for each episode.\n",
        "* Implement exploration-exploitation trade-off with epsilon-greedy strategy.\n",
        "* Update the Q-table values using the Q-learning formula.\n",
        "* Train for 500 episodes.\n",
        "\n",
        "Deliverables:\n",
        "\n",
        "* Trained Q-table with updated Q-values for state-action pairs.\n",
        "* Code for Q-learning loop with detailed comments explaining each step."
      ],
      "metadata": {
        "id": "R2bdrc15JvvT"
      }
    },
    {
      "cell_type": "code",
      "source": [
        "import numpy as np\n",
        "import pandas as pd\n",
        "import random\n",
        "\n",
        "# Load the cleaned 'movies_df' DataFrame from Neel's code output\n",
        "# Define states (genres) and actions (movie names)\n",
        "states = movies_df['genre'].unique().tolist()\n",
        "actions = movies_df['name'].unique().tolist()\n",
        "\n",
        "# Initialize Q-table with float type to avoid incompatible dtype warnings\n",
        "q_table = pd.DataFrame(0.0, index=states, columns=actions)\n",
        "\n",
        "# Define a mock reward function (simulating user feedback)\n",
        "def get_reward(movie_name):\n",
        "    movie_score = movies_df[movies_df['name'] == movie_name]['score'].mean()\n",
        "    if movie_score >= 7.0:\n",
        "        return 1  # Positive reward for scores 7 and above\n",
        "    elif movie_score >= 4.0:\n",
        "        return 0  # Neutral reward for scores between 4 and 6.9\n",
        "    else:\n",
        "        return -1  # Negative reward for scores below 4.0\n",
        "\n",
        "# Q-learning parameters\n",
        "alpha = 0.1  # Learning rate\n",
        "gamma = 0.6  # Discount factor\n",
        "epsilon = 0.1  # Exploration rate\n",
        "\n",
        "# Q-learning algorithm\n",
        "for episode in range(500):  # Number of training episodes\n",
        "    state = random.choice(states)  # Choose a random genre as the user's preference\n",
        "\n",
        "    done = False\n",
        "    while not done:\n",
        "        # Exploration-exploitation trade-off\n",
        "        if random.uniform(0, 1) < epsilon:\n",
        "            action = random.choice(actions)  # Explore: recommend a random movie\n",
        "        else:\n",
        "            action = q_table.loc[state].idxmax()  # Exploit: choose best-known movie\n",
        "\n",
        "        # Get reward based on the movie's score\n",
        "        reward = get_reward(action)\n",
        "\n",
        "        # Update Q-value\n",
        "        old_value = q_table.loc[state, action]\n",
        "        next_max = q_table.loc[state].max()\n",
        "        new_value = (1 - alpha) * old_value + alpha * (reward + gamma * next_max)\n",
        "        q_table.loc[state, action] = new_value\n",
        "\n",
        "        # End the loop if the recommendation is positive\n",
        "        if reward > 0:\n",
        "            done = True\n",
        "\n",
        "# Deliverable: Trained 'q_table' with updated Q-values for state-action pairs"
      ],
      "metadata": {
        "id": "1YiRdZWtJ3qw"
      },
      "execution_count": 2,
      "outputs": []
    },
    {
      "cell_type": "markdown",
      "source": [
        "## **Priyankkumar Patel: User Interaction & Genre Selection**\n",
        "\n",
        "Tasks:\n",
        "\n",
        "* Display the available genres to the user with numbered options.\n",
        "* Accept user input to choose a genre based on a number.\n",
        "* Handle invalid inputs (e.g., numbers outside the genre list or non-numeric input).\n",
        "* Pass the user-selected genre to the recommendation function.\n",
        "\n",
        "Deliverables:\n",
        "\n",
        "* Code for displaying genres, handling user input, and validating the selection.\n",
        "* A variable user_preference containing the selected genre to be used by the recommendation function."
      ],
      "metadata": {
        "id": "1DgVd4txKXRO"
      }
    },
    {
      "cell_type": "code",
      "source": [
        "# Load the trained 'q_table' and 'states' list from Nachiket's output\n",
        "\n",
        "# Display available genres with numbered options\n",
        "print(\"Available genres:\")\n",
        "for idx, genre in enumerate(states, 1):\n",
        "    print(f\"{idx}. {genre}\")\n",
        "\n",
        "# Take user input as a number to select the genre\n",
        "try:\n",
        "    user_choice = int(input(\"\\nEnter the number corresponding to your preferred genre: \"))\n",
        "    if 1 <= user_choice <= len(states):\n",
        "        user_preference = states[user_choice - 1]\n",
        "    else:\n",
        "        print(\"Invalid selection. Please select a valid number.\")\n",
        "except ValueError:\n",
        "    print(\"Please enter a valid number.\")\n",
        "\n",
        "# Deliverable: Selected 'user_preference' variable to be used for recommendations"
      ],
      "metadata": {
        "colab": {
          "base_uri": "https://localhost:8080/"
        },
        "id": "SffcZ2vJKV-I",
        "outputId": "bb6b3d16-6f77-4e27-b2e9-4a13f92b99f2"
      },
      "execution_count": 4,
      "outputs": [
        {
          "name": "stdout",
          "output_type": "stream",
          "text": [
            "Available genres:\n",
            "1. Drama\n",
            "2. Adventure\n",
            "3. Action\n",
            "4. Comedy\n",
            "5. Horror\n",
            "6. Biography\n",
            "7. Crime\n",
            "8. Fantasy\n",
            "9. Animation\n",
            "10. Family\n",
            "11. Western\n",
            "12. Sci-fi\n",
            "13. Romance\n",
            "14. Thriller\n",
            "15. Mystery\n",
            "\n",
            "Enter the number corresponding to your preferred genre: 12\n"
          ]
        }
      ]
    },
    {
      "cell_type": "markdown",
      "source": [
        "## **Tirth Patel: Recommendation Logic & Output Formatting**\n",
        "\n",
        "Tasks:\n",
        "\n",
        "* Implement the recommend_top_movies function to:\n",
        "* Filter movies within the selected genre with ratings between 6 and 10.\n",
        "* Sort and select the top 5 unique movies based on Q-values.\n",
        "\n",
        "Format and display recommendations:\n",
        "* Ensure each recommendation includes the movie title, genre, and integer rating.\n",
        "* Sort recommendations in descending order by rating.\n",
        "* Add spacing and separators for readability."
      ],
      "metadata": {
        "id": "12nIOzb-KfN9"
      }
    },
    {
      "cell_type": "code",
      "source": [
        "# Load 'movies_df', 'q_table', and 'user_preference' from previous outputs\n",
        "\n",
        "# Function to recommend top 5 unique movies with genre and integer ratings between 6 and 10\n",
        "def recommend_top_movies(genre_preference, top_n=5):\n",
        "    # Filter movies by the selected genre and ratings between 6 and 10\n",
        "    genre_movies = movies_df[(movies_df['genre'] == genre_preference) & (movies_df['score'] >= 6) & (movies_df['score'] <= 10)]\n",
        "\n",
        "    # Get the top N movies from the Q-table only for movies within the selected genre and rating range\n",
        "    genre_movie_names = genre_movies['name'].tolist()\n",
        "    filtered_q_values = q_table.loc[genre_preference, genre_movie_names]\n",
        "\n",
        "    # Select the top N movies based on Q-values\n",
        "    top_movies = filtered_q_values.nlargest(top_n * 2).index.tolist()  # Take extra to filter duplicates\n",
        "    movie_recommendations = []\n",
        "\n",
        "    # Retrieve genre and rating for each recommended movie\n",
        "    for movie in top_movies:\n",
        "        if movie not in [m[0] for m in movie_recommendations]:  # Check for uniqueness\n",
        "            movie_data = genre_movies[genre_movies['name'] == movie].iloc[0]\n",
        "            genre = movie_data['genre']\n",
        "            rating = int(round(movie_data['score']))  # Convert rating to an integer\n",
        "            movie_recommendations.append((movie, genre, rating))\n",
        "\n",
        "        # Stop once we have the required number of unique recommendations\n",
        "        if len(movie_recommendations) >= top_n:\n",
        "            break\n",
        "\n",
        "    # Sort recommendations by rating in descending order\n",
        "    movie_recommendations = sorted(movie_recommendations, key=lambda x: x[2], reverse=True)\n",
        "    return movie_recommendations\n",
        "\n",
        "# Get top 5 unique recommendations for the selected genre with ratings between 6 and 10\n",
        "recommended_movies = recommend_top_movies(user_preference, top_n=5)\n",
        "\n",
        "# Display recommendations with genre and integer ratings\n",
        "print(f\"\\nTop 5 recommended movies for '{user_preference}' lovers (Ratings 6-10):\\n\")\n",
        "for idx, (movie, genre, rating) in enumerate(recommended_movies, 1):\n",
        "    print(f\"{idx}. {movie} | Genre: {genre} | Rating: {rating}\")\n",
        "    print(\"   \" + \"-\"*50)\n",
        "\n",
        "# Deliverable: Displayed list of top 5 recommendations"
      ],
      "metadata": {
        "colab": {
          "base_uri": "https://localhost:8080/"
        },
        "id": "gOIHMU2WKmrJ",
        "outputId": "5d4df39f-7852-487f-a323-596d4b11cedf"
      },
      "execution_count": 6,
      "outputs": [
        {
          "output_type": "stream",
          "name": "stdout",
          "text": [
            "\n",
            "Top 5 recommended movies for 'Sci-fi' lovers (Ratings 6-10):\n",
            "\n",
            "1. Limitless | Genre: Sci-fi | Rating: 7\n",
            "   --------------------------------------------------\n",
            "2. Jekyll And Hyde... Together Again | Genre: Sci-fi | Rating: 6\n",
            "   --------------------------------------------------\n",
            "3. Brainstorm | Genre: Sci-fi | Rating: 6\n",
            "   --------------------------------------------------\n",
            "4. The Manhattan Project | Genre: Sci-fi | Rating: 6\n",
            "   --------------------------------------------------\n",
            "5. Hardware | Genre: Sci-fi | Rating: 6\n",
            "   --------------------------------------------------\n"
          ]
        }
      ]
    }
  ]
}