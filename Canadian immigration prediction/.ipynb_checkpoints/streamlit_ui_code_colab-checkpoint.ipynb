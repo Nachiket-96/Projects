{
 "cells": [
  {
   "cell_type": "markdown",
   "id": "33261534",
   "metadata": {},
   "source": [
    "# Canadian Immigration Data Analysis\n",
    "This notebook contains the source code for a Streamlit app that analyzes Canadian immigration data."
   ]
  },
  {
   "cell_type": "code",
   "execution_count": null,
   "id": "5e2bc14e",
   "metadata": {},
   "outputs": [],
   "source": [
    "\n",
    "import streamlit as st\n",
    "import pandas as pd\n",
    "import matplotlib.pyplot as plt\n",
    "import seaborn as sns\n",
    "\n",
    "# Title of the app\n",
    "st.title(\"Canadian Immigration Data Analysis\")\n",
    "\n",
    "# Upload dataset\n",
    "uploaded_file = st.file_uploader(\"Upload your dataset (CSV format)\", type=[\"csv\"])\n",
    "if uploaded_file:\n",
    "    data = pd.read_csv(uploaded_file)\n",
    "    st.write(\"Dataset Preview:\")\n",
    "    st.dataframe(data.head())\n",
    "\n",
    "    # Sidebar for filtering options\n",
    "    st.sidebar.title(\"Filter Options\")\n",
    "    country = st.sidebar.selectbox(\"Select a Country\", data['Country'].unique())\n",
    "    year = st.sidebar.slider(\"Select Year Range\", int(data.columns[1]), int(data.columns[-1]), (1980, 2000))\n",
    "\n",
    "    # Filter data based on selection\n",
    "    filtered_data = data[(data['Country'] == country)]\n",
    "    st.write(f\"Showing data for {country}:\")\n",
    "    st.dataframe(filtered_data)\n",
    "\n",
    "    # Visualize data\n",
    "    st.subheader(\"Immigration Trend\")\n",
    "    fig, ax = plt.subplots()\n",
    "    sns.lineplot(data=filtered_data.iloc[:, 1:].T, ax=ax)\n",
    "    ax.set_title(f\"Immigration Trend for {country}\")\n",
    "    ax.set_xlabel(\"Year\")\n",
    "    ax.set_ylabel(\"Number of Immigrants\")\n",
    "    st.pyplot(fig)\n",
    "\n",
    "    # Placeholder for future ML models\n",
    "    st.subheader(\"Machine Learning Models\")\n",
    "    st.write(\"This section will display predictions and results from the ML models.\")\n",
    "else:\n",
    "    st.write(\"Please upload a dataset to start analyzing.\")\n"
   ]
  }
 ],
 "metadata": {},
 "nbformat": 4,
 "nbformat_minor": 5
}
